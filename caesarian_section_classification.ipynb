{
  "nbformat": 4,
  "nbformat_minor": 0,
  "metadata": {
    "colab": {
      "name": "caesarian-section-classification.ipynb",
      "provenance": []
    },
    "kernelspec": {
      "name": "python3",
      "display_name": "Python 3"
    },
    "language_info": {
      "name": "python"
    }
  },
  "cells": [
    {
      "cell_type": "markdown",
      "metadata": {
        "id": "LII0Tz_i_R4j"
      },
      "source": [
        "# **0. IMPORT LIBRARY**"
      ]
    },
    {
      "cell_type": "code",
      "metadata": {
        "id": "72XYpUKWC0C-"
      },
      "source": [
        "import pandas as pd\n",
        "import matplotlib.pyplot as plt\n",
        "import seaborn as sns\n",
        "\n",
        "from sklearn.model_selection import train_test_split, GridSearchCV\n",
        "from sklearn.neighbors import KNeighborsClassifier\n",
        "from sklearn.tree import DecisionTreeClassifier\n",
        "from sklearn.metrics import precision_score, recall_score, f1_score, classification_report, roc_auc_score"
      ],
      "execution_count": null,
      "outputs": []
    },
    {
      "cell_type": "code",
      "metadata": {
        "id": "Q_U1FwO_sO0X"
      },
      "source": [
        "sns.set_style('whitegrid')"
      ],
      "execution_count": null,
      "outputs": []
    },
    {
      "cell_type": "markdown",
      "metadata": {
        "id": "DOaz_-VR_WPK"
      },
      "source": [
        "# **1. READ THE DATASET**"
      ]
    },
    {
      "cell_type": "code",
      "metadata": {
        "id": "1fIYHkwVC3Bx"
      },
      "source": [
        "caesarian = pd.read_csv('caesarian.csv')"
      ],
      "execution_count": null,
      "outputs": []
    },
    {
      "cell_type": "code",
      "metadata": {
        "colab": {
          "base_uri": "https://localhost:8080/",
          "height": 202
        },
        "id": "JH7HpP98DAvY",
        "outputId": "da686434-56e8-4566-fae2-eb973c2780d4"
      },
      "source": [
        "caesarian.head()"
      ],
      "execution_count": null,
      "outputs": [
        {
          "output_type": "execute_result",
          "data": {
            "text/html": [
              "<div>\n",
              "<style scoped>\n",
              "    .dataframe tbody tr th:only-of-type {\n",
              "        vertical-align: middle;\n",
              "    }\n",
              "\n",
              "    .dataframe tbody tr th {\n",
              "        vertical-align: top;\n",
              "    }\n",
              "\n",
              "    .dataframe thead th {\n",
              "        text-align: right;\n",
              "    }\n",
              "</style>\n",
              "<table border=\"1\" class=\"dataframe\">\n",
              "  <thead>\n",
              "    <tr style=\"text-align: right;\">\n",
              "      <th></th>\n",
              "      <th>age</th>\n",
              "      <th>delivery_number</th>\n",
              "      <th>delivery_time</th>\n",
              "      <th>blood_of_pressure</th>\n",
              "      <th>heart_problem</th>\n",
              "      <th>caesarian</th>\n",
              "    </tr>\n",
              "  </thead>\n",
              "  <tbody>\n",
              "    <tr>\n",
              "      <th>0</th>\n",
              "      <td>22</td>\n",
              "      <td>1</td>\n",
              "      <td>0</td>\n",
              "      <td>2</td>\n",
              "      <td>0</td>\n",
              "      <td>0</td>\n",
              "    </tr>\n",
              "    <tr>\n",
              "      <th>1</th>\n",
              "      <td>26</td>\n",
              "      <td>2</td>\n",
              "      <td>0</td>\n",
              "      <td>1</td>\n",
              "      <td>0</td>\n",
              "      <td>1</td>\n",
              "    </tr>\n",
              "    <tr>\n",
              "      <th>2</th>\n",
              "      <td>26</td>\n",
              "      <td>2</td>\n",
              "      <td>1</td>\n",
              "      <td>1</td>\n",
              "      <td>0</td>\n",
              "      <td>0</td>\n",
              "    </tr>\n",
              "    <tr>\n",
              "      <th>3</th>\n",
              "      <td>28</td>\n",
              "      <td>1</td>\n",
              "      <td>0</td>\n",
              "      <td>2</td>\n",
              "      <td>0</td>\n",
              "      <td>0</td>\n",
              "    </tr>\n",
              "    <tr>\n",
              "      <th>4</th>\n",
              "      <td>22</td>\n",
              "      <td>2</td>\n",
              "      <td>0</td>\n",
              "      <td>1</td>\n",
              "      <td>0</td>\n",
              "      <td>1</td>\n",
              "    </tr>\n",
              "  </tbody>\n",
              "</table>\n",
              "</div>"
            ],
            "text/plain": [
              "   age  delivery_number  ...  heart_problem  caesarian\n",
              "0   22                1  ...              0          0\n",
              "1   26                2  ...              0          1\n",
              "2   26                2  ...              0          0\n",
              "3   28                1  ...              0          0\n",
              "4   22                2  ...              0          1\n",
              "\n",
              "[5 rows x 6 columns]"
            ]
          },
          "metadata": {},
          "execution_count": 8
        }
      ]
    },
    {
      "cell_type": "markdown",
      "metadata": {
        "id": "1nG1rmf3_pAS"
      },
      "source": [
        "# **2. INFORMATION ABOUT DATASET**"
      ]
    },
    {
      "cell_type": "markdown",
      "metadata": {
        "id": "qG7kXPG6_1qw"
      },
      "source": [
        "We choose age, delivery number, delivery time, blood pressure and heart status.\n",
        "We classify delivery time to Premature, Timely and Latecomer. As like the delivery time we consider blood pressure in three statuses of Low, Normal and High. Heart Problem is classified as Apt and Inept.\n",
        "\n",
        "* attribute 'age' \n",
        "> { 22,26,28,27,32,36,33,23,20,29,25,37,24,18,30,40,31,19,21,35,17,38 }\n",
        "* attribute 'delivery_number' \n",
        "> { 1,2,3,4 }\n",
        "* attribute 'delivery_time' \n",
        "> { 0,1,2 } -> {0 = timely , 1 = premature , 2 = latecomer}\n",
        "* attribute 'blood_of_pressure' \n",
        "> { 0,1,2 } -> {0 = low , 1 = normal , 2 = high }\n",
        "* attribute 'heart_problem' \n",
        "> { 0,1 } -> {0 = apt, 1 = inept }\n",
        "* attribute'caesarian' \n",
        "> { 0,1 } -> {0 = No, 1 = Yes }\n",
        "\n",
        "Resource:\n",
        "> https://archive.ics.uci.edu/ml/datasets/Caesarian+Section+Classification+Dataset"
      ]
    },
    {
      "cell_type": "markdown",
      "metadata": {
        "id": "0jqKaMqE_eSg"
      },
      "source": [
        "# **3. DATASET BASIC EXPLORATION**"
      ]
    },
    {
      "cell_type": "markdown",
      "metadata": {
        "id": "k_IFWo2XXX4y"
      },
      "source": [
        "STATISTICAL SUMMARY"
      ]
    },
    {
      "cell_type": "code",
      "metadata": {
        "colab": {
          "base_uri": "https://localhost:8080/",
          "height": 294
        },
        "id": "Cd3BGafSImwy",
        "outputId": "42ae4763-3d3c-4b50-b634-8fa17751265d"
      },
      "source": [
        "caesarian.describe()"
      ],
      "execution_count": null,
      "outputs": [
        {
          "output_type": "execute_result",
          "data": {
            "text/html": [
              "<div>\n",
              "<style scoped>\n",
              "    .dataframe tbody tr th:only-of-type {\n",
              "        vertical-align: middle;\n",
              "    }\n",
              "\n",
              "    .dataframe tbody tr th {\n",
              "        vertical-align: top;\n",
              "    }\n",
              "\n",
              "    .dataframe thead th {\n",
              "        text-align: right;\n",
              "    }\n",
              "</style>\n",
              "<table border=\"1\" class=\"dataframe\">\n",
              "  <thead>\n",
              "    <tr style=\"text-align: right;\">\n",
              "      <th></th>\n",
              "      <th>age</th>\n",
              "      <th>delivery_number</th>\n",
              "      <th>delivery_time</th>\n",
              "      <th>blood_of_pressure</th>\n",
              "      <th>heart_problem</th>\n",
              "      <th>caesarian</th>\n",
              "    </tr>\n",
              "  </thead>\n",
              "  <tbody>\n",
              "    <tr>\n",
              "      <th>count</th>\n",
              "      <td>80.000000</td>\n",
              "      <td>80.000000</td>\n",
              "      <td>80.000000</td>\n",
              "      <td>80.000000</td>\n",
              "      <td>80.000000</td>\n",
              "      <td>80.000000</td>\n",
              "    </tr>\n",
              "    <tr>\n",
              "      <th>mean</th>\n",
              "      <td>27.687500</td>\n",
              "      <td>1.662500</td>\n",
              "      <td>0.637500</td>\n",
              "      <td>1.000000</td>\n",
              "      <td>0.375000</td>\n",
              "      <td>0.575000</td>\n",
              "    </tr>\n",
              "    <tr>\n",
              "      <th>std</th>\n",
              "      <td>5.017927</td>\n",
              "      <td>0.794662</td>\n",
              "      <td>0.815107</td>\n",
              "      <td>0.711568</td>\n",
              "      <td>0.487177</td>\n",
              "      <td>0.497462</td>\n",
              "    </tr>\n",
              "    <tr>\n",
              "      <th>min</th>\n",
              "      <td>17.000000</td>\n",
              "      <td>1.000000</td>\n",
              "      <td>0.000000</td>\n",
              "      <td>0.000000</td>\n",
              "      <td>0.000000</td>\n",
              "      <td>0.000000</td>\n",
              "    </tr>\n",
              "    <tr>\n",
              "      <th>25%</th>\n",
              "      <td>25.000000</td>\n",
              "      <td>1.000000</td>\n",
              "      <td>0.000000</td>\n",
              "      <td>0.750000</td>\n",
              "      <td>0.000000</td>\n",
              "      <td>0.000000</td>\n",
              "    </tr>\n",
              "    <tr>\n",
              "      <th>50%</th>\n",
              "      <td>27.000000</td>\n",
              "      <td>1.000000</td>\n",
              "      <td>0.000000</td>\n",
              "      <td>1.000000</td>\n",
              "      <td>0.000000</td>\n",
              "      <td>1.000000</td>\n",
              "    </tr>\n",
              "    <tr>\n",
              "      <th>75%</th>\n",
              "      <td>32.000000</td>\n",
              "      <td>2.000000</td>\n",
              "      <td>1.000000</td>\n",
              "      <td>1.250000</td>\n",
              "      <td>1.000000</td>\n",
              "      <td>1.000000</td>\n",
              "    </tr>\n",
              "    <tr>\n",
              "      <th>max</th>\n",
              "      <td>40.000000</td>\n",
              "      <td>4.000000</td>\n",
              "      <td>2.000000</td>\n",
              "      <td>2.000000</td>\n",
              "      <td>1.000000</td>\n",
              "      <td>1.000000</td>\n",
              "    </tr>\n",
              "  </tbody>\n",
              "</table>\n",
              "</div>"
            ],
            "text/plain": [
              "             age  delivery_number  ...  heart_problem  caesarian\n",
              "count  80.000000        80.000000  ...      80.000000  80.000000\n",
              "mean   27.687500         1.662500  ...       0.375000   0.575000\n",
              "std     5.017927         0.794662  ...       0.487177   0.497462\n",
              "min    17.000000         1.000000  ...       0.000000   0.000000\n",
              "25%    25.000000         1.000000  ...       0.000000   0.000000\n",
              "50%    27.000000         1.000000  ...       0.000000   1.000000\n",
              "75%    32.000000         2.000000  ...       1.000000   1.000000\n",
              "max    40.000000         4.000000  ...       1.000000   1.000000\n",
              "\n",
              "[8 rows x 6 columns]"
            ]
          },
          "metadata": {},
          "execution_count": 23
        }
      ]
    },
    {
      "cell_type": "markdown",
      "metadata": {
        "id": "uusXfC6OXcWs"
      },
      "source": [
        "DATASET INFO"
      ]
    },
    {
      "cell_type": "code",
      "metadata": {
        "colab": {
          "base_uri": "https://localhost:8080/"
        },
        "id": "yQQviBRGB2Q_",
        "outputId": "8c0b2e1b-eadb-46d8-c332-c00c195e1ab2"
      },
      "source": [
        "caesarian.info()"
      ],
      "execution_count": null,
      "outputs": [
        {
          "output_type": "stream",
          "name": "stdout",
          "text": [
            "<class 'pandas.core.frame.DataFrame'>\n",
            "RangeIndex: 80 entries, 0 to 79\n",
            "Data columns (total 6 columns):\n",
            " #   Column             Non-Null Count  Dtype\n",
            "---  ------             --------------  -----\n",
            " 0   age                80 non-null     int64\n",
            " 1   delivery_number    80 non-null     int64\n",
            " 2   delivery_time      80 non-null     int64\n",
            " 3   blood_of_pressure  80 non-null     int64\n",
            " 4   heart_problem      80 non-null     int64\n",
            " 5   caesarian          80 non-null     int64\n",
            "dtypes: int64(6)\n",
            "memory usage: 3.9 KB\n"
          ]
        }
      ]
    },
    {
      "cell_type": "markdown",
      "metadata": {
        "id": "Eff_1xkOXeAL"
      },
      "source": [
        "DATASET DIMENSION"
      ]
    },
    {
      "cell_type": "code",
      "metadata": {
        "colab": {
          "base_uri": "https://localhost:8080/"
        },
        "id": "Etj0o8AxLa3t",
        "outputId": "a1dd954e-7108-4a5e-edb3-a1c96f0c85bb"
      },
      "source": [
        "caesarian.shape"
      ],
      "execution_count": null,
      "outputs": [
        {
          "output_type": "execute_result",
          "data": {
            "text/plain": [
              "(80, 6)"
            ]
          },
          "metadata": {},
          "execution_count": 25
        }
      ]
    },
    {
      "cell_type": "markdown",
      "metadata": {
        "id": "bQQW2C3TXlXq"
      },
      "source": [
        "NUMBER OF UNIQUE VALUES IN EACH COLUMN"
      ]
    },
    {
      "cell_type": "code",
      "metadata": {
        "colab": {
          "base_uri": "https://localhost:8080/"
        },
        "id": "h_igP87uDrjX",
        "outputId": "5bf9f830-f5cd-4e70-9b6a-416e33d93c47"
      },
      "source": [
        "caesarian.nunique()"
      ],
      "execution_count": null,
      "outputs": [
        {
          "output_type": "execute_result",
          "data": {
            "text/plain": [
              "age                  22\n",
              "delivery_number       4\n",
              "delivery_time         3\n",
              "blood_of_pressure     3\n",
              "heart_problem         2\n",
              "caesarian             2\n",
              "dtype: int64"
            ]
          },
          "metadata": {},
          "execution_count": 26
        }
      ]
    },
    {
      "cell_type": "markdown",
      "metadata": {
        "id": "7YNbb0OUXt_v"
      },
      "source": [
        "DUPLICATE"
      ]
    },
    {
      "cell_type": "code",
      "metadata": {
        "id": "qMyJp6sEWaGd"
      },
      "source": [
        "caesarian['is_duplicated'] = caesarian.duplicated()"
      ],
      "execution_count": null,
      "outputs": []
    },
    {
      "cell_type": "code",
      "metadata": {
        "colab": {
          "base_uri": "https://localhost:8080/"
        },
        "id": "TcS-QBGhXRns",
        "outputId": "46104120-9019-4400-fb02-85ac2678df6e"
      },
      "source": [
        "caesarian['is_duplicated'].value_counts()"
      ],
      "execution_count": null,
      "outputs": [
        {
          "output_type": "execute_result",
          "data": {
            "text/plain": [
              "False    76\n",
              "True      4\n",
              "Name: is_duplicated, dtype: int64"
            ]
          },
          "metadata": {},
          "execution_count": 28
        }
      ]
    },
    {
      "cell_type": "code",
      "metadata": {
        "colab": {
          "base_uri": "https://localhost:8080/",
          "height": 171
        },
        "id": "171fdjbLXy-F",
        "outputId": "d4d4a79f-9be1-4994-8629-d2fe99f4fad2"
      },
      "source": [
        "duplicate = caesarian['is_duplicated'] == True\n",
        "caesarian[duplicate]"
      ],
      "execution_count": null,
      "outputs": [
        {
          "output_type": "execute_result",
          "data": {
            "text/html": [
              "<div>\n",
              "<style scoped>\n",
              "    .dataframe tbody tr th:only-of-type {\n",
              "        vertical-align: middle;\n",
              "    }\n",
              "\n",
              "    .dataframe tbody tr th {\n",
              "        vertical-align: top;\n",
              "    }\n",
              "\n",
              "    .dataframe thead th {\n",
              "        text-align: right;\n",
              "    }\n",
              "</style>\n",
              "<table border=\"1\" class=\"dataframe\">\n",
              "  <thead>\n",
              "    <tr style=\"text-align: right;\">\n",
              "      <th></th>\n",
              "      <th>age</th>\n",
              "      <th>delivery_number</th>\n",
              "      <th>delivery_time</th>\n",
              "      <th>blood_of_pressure</th>\n",
              "      <th>heart_problem</th>\n",
              "      <th>caesarian</th>\n",
              "      <th>is_duplicated</th>\n",
              "    </tr>\n",
              "  </thead>\n",
              "  <tbody>\n",
              "    <tr>\n",
              "      <th>47</th>\n",
              "      <td>32</td>\n",
              "      <td>2</td>\n",
              "      <td>0</td>\n",
              "      <td>2</td>\n",
              "      <td>1</td>\n",
              "      <td>1</td>\n",
              "      <td>True</td>\n",
              "    </tr>\n",
              "    <tr>\n",
              "      <th>61</th>\n",
              "      <td>19</td>\n",
              "      <td>1</td>\n",
              "      <td>0</td>\n",
              "      <td>1</td>\n",
              "      <td>0</td>\n",
              "      <td>1</td>\n",
              "      <td>True</td>\n",
              "    </tr>\n",
              "    <tr>\n",
              "      <th>71</th>\n",
              "      <td>29</td>\n",
              "      <td>1</td>\n",
              "      <td>2</td>\n",
              "      <td>0</td>\n",
              "      <td>1</td>\n",
              "      <td>1</td>\n",
              "      <td>True</td>\n",
              "    </tr>\n",
              "    <tr>\n",
              "      <th>72</th>\n",
              "      <td>28</td>\n",
              "      <td>2</td>\n",
              "      <td>0</td>\n",
              "      <td>1</td>\n",
              "      <td>0</td>\n",
              "      <td>0</td>\n",
              "      <td>True</td>\n",
              "    </tr>\n",
              "  </tbody>\n",
              "</table>\n",
              "</div>"
            ],
            "text/plain": [
              "    age  delivery_number  ...  caesarian  is_duplicated\n",
              "47   32                2  ...          1           True\n",
              "61   19                1  ...          1           True\n",
              "71   29                1  ...          1           True\n",
              "72   28                2  ...          0           True\n",
              "\n",
              "[4 rows x 7 columns]"
            ]
          },
          "metadata": {},
          "execution_count": 29
        }
      ]
    },
    {
      "cell_type": "markdown",
      "metadata": {
        "id": "KgmGLNs_qziH"
      },
      "source": [
        "Data duplicate dianggap sebagai pasien berbeda yang memiliki kondisi yang sama."
      ]
    },
    {
      "cell_type": "code",
      "metadata": {
        "id": "mAuhDyhurA_2"
      },
      "source": [
        "caesarian = caesarian.drop('is_duplicated', axis=1)"
      ],
      "execution_count": null,
      "outputs": []
    },
    {
      "cell_type": "markdown",
      "metadata": {
        "id": "cI5VqW66Vi_f"
      },
      "source": [
        "# **4. EACH COLUMN UNIQUE VALUES**"
      ]
    },
    {
      "cell_type": "code",
      "metadata": {
        "colab": {
          "base_uri": "https://localhost:8080/"
        },
        "id": "8OwkqCPrKjbt",
        "outputId": "a4816bf3-22fe-4aaa-d0ba-c311f393ce65"
      },
      "source": [
        "caesarian['age'].unique()"
      ],
      "execution_count": null,
      "outputs": [
        {
          "output_type": "execute_result",
          "data": {
            "text/plain": [
              "array([22, 26, 28, 27, 32, 36, 33, 23, 20, 29, 25, 37, 24, 18, 30, 40, 31,\n",
              "       19, 21, 35, 17, 38])"
            ]
          },
          "metadata": {},
          "execution_count": 31
        }
      ]
    },
    {
      "cell_type": "code",
      "metadata": {
        "colab": {
          "base_uri": "https://localhost:8080/"
        },
        "id": "mzIUlB9IKrc8",
        "outputId": "c16759d6-8c5a-4a6f-a182-ee6ade20e598"
      },
      "source": [
        "caesarian['delivery_number'].unique()"
      ],
      "execution_count": null,
      "outputs": [
        {
          "output_type": "execute_result",
          "data": {
            "text/plain": [
              "array([1, 2, 3, 4])"
            ]
          },
          "metadata": {},
          "execution_count": 32
        }
      ]
    },
    {
      "cell_type": "code",
      "metadata": {
        "colab": {
          "base_uri": "https://localhost:8080/"
        },
        "id": "Otg6eZSzKwBd",
        "outputId": "612c822a-7aa5-4d79-d18b-8d889c211dd6"
      },
      "source": [
        "caesarian['delivery_time'].unique()"
      ],
      "execution_count": null,
      "outputs": [
        {
          "output_type": "execute_result",
          "data": {
            "text/plain": [
              "array([0, 1, 2])"
            ]
          },
          "metadata": {},
          "execution_count": 33
        }
      ]
    },
    {
      "cell_type": "code",
      "metadata": {
        "colab": {
          "base_uri": "https://localhost:8080/"
        },
        "id": "lC5WszX_KzBL",
        "outputId": "d5c3dad8-899b-4ba9-ad19-6d69532f4c12"
      },
      "source": [
        "caesarian['blood_of_pressure'].unique()"
      ],
      "execution_count": null,
      "outputs": [
        {
          "output_type": "execute_result",
          "data": {
            "text/plain": [
              "array([2, 1, 0])"
            ]
          },
          "metadata": {},
          "execution_count": 34
        }
      ]
    },
    {
      "cell_type": "code",
      "metadata": {
        "colab": {
          "base_uri": "https://localhost:8080/"
        },
        "id": "NhkEPfgXK3JE",
        "outputId": "eff00a3c-e18f-4b95-f748-d3e946b880d0"
      },
      "source": [
        "caesarian['heart_problem'].unique()"
      ],
      "execution_count": null,
      "outputs": [
        {
          "output_type": "execute_result",
          "data": {
            "text/plain": [
              "array([0, 1])"
            ]
          },
          "metadata": {},
          "execution_count": 35
        }
      ]
    },
    {
      "cell_type": "code",
      "metadata": {
        "colab": {
          "base_uri": "https://localhost:8080/"
        },
        "id": "KKJjyi1bK7wc",
        "outputId": "f1719236-8679-4704-f6a6-316ccea38392"
      },
      "source": [
        "caesarian['caesarian'].unique()"
      ],
      "execution_count": null,
      "outputs": [
        {
          "output_type": "execute_result",
          "data": {
            "text/plain": [
              "array([0, 1])"
            ]
          },
          "metadata": {},
          "execution_count": 36
        }
      ]
    },
    {
      "cell_type": "markdown",
      "metadata": {
        "id": "bcizg8ycV18E"
      },
      "source": [
        "# **5. DATA VISUALIZATION: ALL COLUMNS VS CAESARIAN**"
      ]
    },
    {
      "cell_type": "markdown",
      "metadata": {
        "id": "S-BhoBGor92j"
      },
      "source": [
        "AGE VS CAESARIAN "
      ]
    },
    {
      "cell_type": "code",
      "metadata": {
        "colab": {
          "base_uri": "https://localhost:8080/",
          "height": 370
        },
        "id": "SmGyYJPVr9PH",
        "outputId": "0caba540-20f5-4a61-f2df-b474e5ddee5b"
      },
      "source": [
        "plt.figure(figsize=(20,21))\n",
        "\n",
        "sns.displot(data=caesarian, x='age', hue='caesarian', element='step', )\n",
        "\n",
        "plt.title('Distribusi Usia Wanita Hamil'.upper())\n",
        "plt.subplots_adjust(top=0.88)\n",
        "plt.savefig('age.jpg')"
      ],
      "execution_count": null,
      "outputs": [
        {
          "output_type": "display_data",
          "data": {
            "text/plain": [
              "<Figure size 1440x1512 with 0 Axes>"
            ]
          },
          "metadata": {}
        },
        {
          "output_type": "display_data",
          "data": {
            "image/png": "[encoded data removed]",
            "text/plain": [
              "<Figure size 416.625x360 with 1 Axes>"
            ]
          },
          "metadata": {}
        }
      ]
    },
    {
      "cell_type": "code",
      "metadata": {
        "colab": {
          "base_uri": "https://localhost:8080/",
          "height": 513
        },
        "id": "4Z7ufwam-lKw",
        "outputId": "a6f07e27-f57d-4100-e1cb-c518e75b8da6"
      },
      "source": [
        "fig, ax = plt.subplots(figsize=(9,8))\n",
        "\n",
        "sns.boxplot(data=caesarian, y='age', x='caesarian')\n",
        "\n",
        "ax.set_xticklabels(['No', 'Yes'])\n",
        "plt.title('Distribusi usia di setiap kelas'.upper())\n",
        "plt.subplots_adjust(top=0.88)\n",
        "plt.savefig('age_dist.jpg')"
      ],
      "execution_count": null,
      "outputs": [
        {
          "output_type": "display_data",
          "data": {
            "image/png": "[encoded data removed]",
            "text/plain": [
              "<Figure size 648x576 with 1 Axes>"
            ]
          },
          "metadata": {}
        }
      ]
    },
    {
      "cell_type": "markdown",
      "metadata": {
        "id": "iB378HMxsu2K"
      },
      "source": [
        "DELIVERY NUMBER VS CAESARIAN"
      ]
    },
    {
      "cell_type": "code",
      "metadata": {
        "colab": {
          "base_uri": "https://localhost:8080/",
          "height": 513
        },
        "id": "rH2_JhmfsxiK",
        "outputId": "41f1027f-7679-4ecb-dcfd-10dc779a87df"
      },
      "source": [
        "fig, ax = plt.subplots(figsize=(9,8))\n",
        "\n",
        "sns.countplot(data=caesarian, x='delivery_number', hue='caesarian', palette='deep')\n",
        "\n",
        "plt.title('DELIVERY NUMBER VS CAESARIAN')\n",
        "plt.xlabel('Delivery number')\n",
        "plt.ylabel('Banyak pasien')\n",
        "plt.subplots_adjust(top=0.88)\n",
        "plt.savefig('dn_cs.jpg')"
      ],
      "execution_count": null,
      "outputs": [
        {
          "output_type": "display_data",
          "data": {
            "image/png": "[encoded data removed]",
            "text/plain": [
              "<Figure size 648x576 with 1 Axes>"
            ]
          },
          "metadata": {}
        }
      ]
    },
    {
      "cell_type": "markdown",
      "metadata": {
        "id": "qIn4qdQDuZ1c"
      },
      "source": [
        "DELIVERY TIME VS CAESARIAN "
      ]
    },
    {
      "cell_type": "code",
      "metadata": {
        "colab": {
          "base_uri": "https://localhost:8080/",
          "height": 513
        },
        "id": "h_77YAsYuY_E",
        "outputId": "ad7dac7d-359a-4231-9bbb-16b8e362b023"
      },
      "source": [
        "fig, ax = plt.subplots(figsize=(9,8))\n",
        "\n",
        "sns.countplot(data=caesarian, x='delivery_time', hue='caesarian', palette='deep')\n",
        "\n",
        "ax.set_xticklabels(['Timely', 'Premature', 'Latecomer'])\n",
        "plt.title('DELIVERY TIME VS CAESARIAN')\n",
        "plt.xlabel('Delivery time')\n",
        "plt.ylabel('Banyak pasien')\n",
        "plt.subplots_adjust(top=0.88)\n",
        "plt.savefig('dt_cs.jpg')"
      ],
      "execution_count": null,
      "outputs": [
        {
          "output_type": "display_data",
          "data": {
            "image/png": "[encoded data removed]",
            "text/plain": [
              "<Figure size 648x576 with 1 Axes>"
            ]
          },
          "metadata": {}
        }
      ]
    },
    {
      "cell_type": "markdown",
      "metadata": {
        "id": "W2AD1SgByfUL"
      },
      "source": [
        "Pasien yang melahirkan tepat waktu lebih dominan dalam melahirkan secara caesar. Sementara itu, pasien yang melahirkan lebih cepat (premature) atau lebih lambat (latecomer) memiliki perbandingan cara kelahiran yang hampir seimbang. Lebih banyak dilakukan secara normal."
      ]
    },
    {
      "cell_type": "markdown",
      "metadata": {
        "id": "WDOuzrr_y3MO"
      },
      "source": [
        "BLOOD OF PRESSURE VS CAESARIAN"
      ]
    },
    {
      "cell_type": "code",
      "metadata": {
        "colab": {
          "base_uri": "https://localhost:8080/",
          "height": 513
        },
        "id": "3tqYLYfLxNrs",
        "outputId": "5042fb01-4db6-44b5-b84b-c7f8e8bdcf22"
      },
      "source": [
        "fig, ax = plt.subplots(figsize=(9,8))\n",
        "\n",
        "sns.countplot(data=caesarian, x='blood_of_pressure', hue='caesarian', palette='deep')\n",
        "\n",
        "ax.set_xticklabels(['Low', 'Normal', 'High'])\n",
        "plt.title('BLOOD OF PRESSURE VS CAESARIAN')\n",
        "plt.xlabel('Blood of pressure')\n",
        "plt.ylabel('Banyak pasien')\n",
        "plt.subplots_adjust(top=0.88)\n",
        "plt.savefig('bld_cs.jpg')"
      ],
      "execution_count": null,
      "outputs": [
        {
          "output_type": "display_data",
          "data": {
            "image/png": "[encoded data removed]",
            "text/plain": [
              "<Figure size 648x576 with 1 Axes>"
            ]
          },
          "metadata": {}
        }
      ]
    },
    {
      "cell_type": "markdown",
      "metadata": {
        "id": "LERkTbZfy9We"
      },
      "source": [
        "Pasien dengan tekanan darah rendah dan tinggi dominan melakukan caesar dalam proses melahirkan."
      ]
    },
    {
      "cell_type": "markdown",
      "metadata": {
        "id": "XTHrDqwIzIVK"
      },
      "source": [
        "HEART PROBLEM VS CAESARIAN "
      ]
    },
    {
      "cell_type": "code",
      "metadata": {
        "colab": {
          "base_uri": "https://localhost:8080/",
          "height": 513
        },
        "id": "0Myf_xrkyGAJ",
        "outputId": "f4aeabfc-7c8a-4fd8-e519-f8896dffd613"
      },
      "source": [
        "fig, ax = plt.subplots(figsize=(9,8))\n",
        "\n",
        "sns.countplot(data=caesarian, x='heart_problem', hue='caesarian', palette='deep')\n",
        "\n",
        "ax.set_xticklabels(['Apt', 'Inept'])\n",
        "plt.title('HEART PROBLEM VS CAESARIAN')\n",
        "plt.xlabel('Heart problem')\n",
        "plt.ylabel('Banyak pasien')\n",
        "plt.subplots_adjust(top=0.88)\n",
        "plt.savefig('hrt_cs.jpg')"
      ],
      "execution_count": null,
      "outputs": [
        {
          "output_type": "display_data",
          "data": {
            "image/png": "[encoded data removed]",
            "text/plain": [
              "<Figure size 648x576 with 1 Axes>"
            ]
          },
          "metadata": {}
        }
      ]
    },
    {
      "cell_type": "markdown",
      "metadata": {
        "id": "TPUrPC6GzM_1"
      },
      "source": [
        "Perempuan yang memiliki kondisi inept lebih banyak melahirkan dengan cara operasi caesar."
      ]
    },
    {
      "cell_type": "code",
      "metadata": {
        "colab": {
          "base_uri": "https://localhost:8080/",
          "height": 567
        },
        "id": "eCQovm4iRwVK",
        "outputId": "948fcda5-682c-4ecb-d7fe-d3a15fbf350e"
      },
      "source": [
        "fig, ax = plt.subplots(figsize=(9,8))\n",
        "sns.heatmap(caesarian.corr(), cmap=\"YlGnBu\", annot=True)\n",
        "plt.subplots_adjust(top=0.88)\n",
        "plt.savefig('corr.jpg')"
      ],
      "execution_count": null,
      "outputs": [
        {
          "output_type": "display_data",
          "data": {
            "image/png": "[encoded data removed]",
            "text/plain": [
              "<Figure size 648x576 with 2 Axes>"
            ]
          },
          "metadata": {}
        }
      ]
    },
    {
      "cell_type": "markdown",
      "metadata": {
        "id": "B5gDEn1Jr0-1"
      },
      "source": [
        "# **6. MODELING PROCESS**"
      ]
    },
    {
      "cell_type": "code",
      "metadata": {
        "colab": {
          "base_uri": "https://localhost:8080/",
          "height": 296
        },
        "id": "hzYBUxvlr8Qv",
        "outputId": "c52fd6fa-ca79-4a1a-c188-3874a6ff41bd"
      },
      "source": [
        "# target class distribution\n",
        "\n",
        "sns.countplot(data=caesarian, x='caesarian')"
      ],
      "execution_count": null,
      "outputs": [
        {
          "output_type": "execute_result",
          "data": {
            "text/plain": [
              "<matplotlib.axes._subplots.AxesSubplot at 0x7f2ce4e4c290>"
            ]
          },
          "metadata": {},
          "execution_count": 44
        },
        {
          "output_type": "display_data",
          "data": {
            "image/png": "[encoded data removed]",
            "text/plain": [
              "<Figure size 432x288 with 1 Axes>"
            ]
          },
          "metadata": {}
        }
      ]
    },
    {
      "cell_type": "code",
      "metadata": {
        "id": "WPxUJPnTseAa"
      },
      "source": [
        "# split predictor variable and target variable\n",
        "\n",
        "X = caesarian.drop(columns='caesarian', axis=1)\n",
        "y = caesarian['caesarian']"
      ],
      "execution_count": null,
      "outputs": []
    },
    {
      "cell_type": "code",
      "metadata": {
        "colab": {
          "base_uri": "https://localhost:8080/"
        },
        "id": "6V1lqG3ltn1o",
        "outputId": "5c34a983-fa25-49d3-8200-578934eaafdd"
      },
      "source": [
        "# split data into train and test data\n",
        "\n",
        "X_train, X_test, y_train, y_test = train_test_split(X, y, test_size=0.2, stratify=y, random_state=42)\n",
        "\n",
        "print(y_train.value_counts())\n",
        "print(y_test.value_counts())"
      ],
      "execution_count": null,
      "outputs": [
        {
          "output_type": "stream",
          "name": "stdout",
          "text": [
            "1    37\n",
            "0    27\n",
            "Name: caesarian, dtype: int64\n",
            "1    9\n",
            "0    7\n",
            "Name: caesarian, dtype: int64\n"
          ]
        }
      ]
    },
    {
      "cell_type": "markdown",
      "metadata": {
        "id": "0Tq7lv6WuOCC"
      },
      "source": [
        "**K-NEAREST NEIGHBORS (KNN)**"
      ]
    },
    {
      "cell_type": "code",
      "metadata": {
        "colab": {
          "base_uri": "https://localhost:8080/"
        },
        "id": "Z2DF-T2wuZhT",
        "outputId": "e1600024-d1c2-4328-ef0a-64b0db26b58b"
      },
      "source": [
        "# apply GridSearchCV() to find best model\n",
        "\n",
        "knn = KNeighborsClassifier()\n",
        "param_grid = {\n",
        "    'n_neighbors' : [5,6,7,8,9,10]\n",
        "}\n",
        "grid_search_cv1 = GridSearchCV(knn, param_grid=param_grid, cv=5)\n",
        "\n",
        "grid_search_cv1.fit(X_train, y_train)"
      ],
      "execution_count": null,
      "outputs": [
        {
          "output_type": "execute_result",
          "data": {
            "text/plain": [
              "GridSearchCV(cv=5, error_score=nan,\n",
              "             estimator=KNeighborsClassifier(algorithm='auto', leaf_size=30,\n",
              "                                            metric='minkowski',\n",
              "                                            metric_params=None, n_jobs=None,\n",
              "                                            n_neighbors=5, p=2,\n",
              "                                            weights='uniform'),\n",
              "             iid='deprecated', n_jobs=None,\n",
              "             param_grid={'n_neighbors': [5, 6, 7, 8, 9, 10]},\n",
              "             pre_dispatch='2*n_jobs', refit=True, return_train_score=False,\n",
              "             scoring=None, verbose=0)"
            ]
          },
          "metadata": {},
          "execution_count": 94
        }
      ]
    },
    {
      "cell_type": "code",
      "metadata": {
        "colab": {
          "base_uri": "https://localhost:8080/"
        },
        "id": "bS5h1nG0u10q",
        "outputId": "9898613d-5542-4217-bdff-e01c33999a53"
      },
      "source": [
        "grid_search_cv1.best_params_"
      ],
      "execution_count": null,
      "outputs": [
        {
          "output_type": "execute_result",
          "data": {
            "text/plain": [
              "{'n_neighbors': 8}"
            ]
          },
          "metadata": {},
          "execution_count": 95
        }
      ]
    },
    {
      "cell_type": "code",
      "metadata": {
        "id": "0mWdyYqzxMGg"
      },
      "source": [
        "y_pred1 =  grid_search_cv1.predict(X_test)"
      ],
      "execution_count": null,
      "outputs": []
    },
    {
      "cell_type": "code",
      "metadata": {
        "colab": {
          "base_uri": "https://localhost:8080/"
        },
        "id": "P0uvox7iwwG0",
        "outputId": "e4aa17a1-fa21-4e3b-94dd-fc6384a80d39"
      },
      "source": [
        "print(precision_score(y_test, y_pred1))"
      ],
      "execution_count": null,
      "outputs": [
        {
          "output_type": "stream",
          "name": "stdout",
          "text": [
            "0.7777777777777778\n"
          ]
        }
      ]
    },
    {
      "cell_type": "code",
      "metadata": {
        "colab": {
          "base_uri": "https://localhost:8080/"
        },
        "id": "-Lf3NytaxCL2",
        "outputId": "f8e2f9e3-354a-4260-c355-8531d48bea8d"
      },
      "source": [
        "print(recall_score(y_test, y_pred1))"
      ],
      "execution_count": null,
      "outputs": [
        {
          "output_type": "stream",
          "name": "stdout",
          "text": [
            "0.7777777777777778\n"
          ]
        }
      ]
    },
    {
      "cell_type": "code",
      "metadata": {
        "colab": {
          "base_uri": "https://localhost:8080/"
        },
        "id": "Yg9xXla3xJey",
        "outputId": "ea5ad186-59a5-47c2-a0b6-4073ae0ebdf7"
      },
      "source": [
        "print(classification_report(y_test, y_pred1))"
      ],
      "execution_count": null,
      "outputs": [
        {
          "output_type": "stream",
          "name": "stdout",
          "text": [
            "              precision    recall  f1-score   support\n",
            "\n",
            "           0       0.71      0.71      0.71         7\n",
            "           1       0.78      0.78      0.78         9\n",
            "\n",
            "    accuracy                           0.75        16\n",
            "   macro avg       0.75      0.75      0.75        16\n",
            "weighted avg       0.75      0.75      0.75        16\n",
            "\n"
          ]
        }
      ]
    },
    {
      "cell_type": "code",
      "metadata": {
        "colab": {
          "base_uri": "https://localhost:8080/"
        },
        "id": "KLtKRkoUyNFs",
        "outputId": "128904a7-115e-4d6e-f93b-4b154808a96b"
      },
      "source": [
        "print(roc_auc_score(y_test, y_pred1))"
      ],
      "execution_count": null,
      "outputs": [
        {
          "output_type": "stream",
          "name": "stdout",
          "text": [
            "0.746031746031746\n"
          ]
        }
      ]
    },
    {
      "cell_type": "markdown",
      "metadata": {
        "id": "hPtZJKfQySyp"
      },
      "source": [
        "**DECISION TREE**"
      ]
    },
    {
      "cell_type": "code",
      "metadata": {
        "colab": {
          "base_uri": "https://localhost:8080/"
        },
        "id": "kSxorGsPyU8S",
        "outputId": "ac3f96ab-57a4-4670-81f1-e94496ca9c7d"
      },
      "source": [
        "# apply GridSearchCV() to find best model\n",
        "\n",
        "dtree = DecisionTreeClassifier()\n",
        "param_grid = {'max_features': ['auto', 'sqrt', 'log2'],\n",
        "              'ccp_alpha': [0.1, .01, .001],\n",
        "              'max_depth' : [5, 6, 7, 8, 9],\n",
        "              'criterion' :['gini', 'entropy']\n",
        "             }\n",
        "grid_search_cv2 = GridSearchCV(dtree, param_grid=param_grid, cv=5)\n",
        "\n",
        "grid_search_cv2.fit(X_train, y_train)"
      ],
      "execution_count": null,
      "outputs": [
        {
          "output_type": "execute_result",
          "data": {
            "text/plain": [
              "GridSearchCV(cv=5, error_score=nan,\n",
              "             estimator=DecisionTreeClassifier(ccp_alpha=0.0, class_weight=None,\n",
              "                                              criterion='gini', max_depth=None,\n",
              "                                              max_features=None,\n",
              "                                              max_leaf_nodes=None,\n",
              "                                              min_impurity_decrease=0.0,\n",
              "                                              min_impurity_split=None,\n",
              "                                              min_samples_leaf=1,\n",
              "                                              min_samples_split=2,\n",
              "                                              min_weight_fraction_leaf=0.0,\n",
              "                                              presort='deprecated',\n",
              "                                              random_state=None,\n",
              "                                              splitter='best'),\n",
              "             iid='deprecated', n_jobs=None,\n",
              "             param_grid={'ccp_alpha': [0.1, 0.01, 0.001],\n",
              "                         'criterion': ['gini', 'entropy'],\n",
              "                         'max_depth': [5, 6, 7, 8, 9],\n",
              "                         'max_features': ['auto', 'sqrt', 'log2']},\n",
              "             pre_dispatch='2*n_jobs', refit=True, return_train_score=False,\n",
              "             scoring=None, verbose=0)"
            ]
          },
          "metadata": {},
          "execution_count": 102
        }
      ]
    },
    {
      "cell_type": "code",
      "metadata": {
        "colab": {
          "base_uri": "https://localhost:8080/"
        },
        "id": "spmpnMjdzOJS",
        "outputId": "b6adb3ef-e88d-4fb2-cfa0-6b6fb89b6264"
      },
      "source": [
        "grid_search_cv2.best_params_"
      ],
      "execution_count": null,
      "outputs": [
        {
          "output_type": "execute_result",
          "data": {
            "text/plain": [
              "{'ccp_alpha': 0.01,\n",
              " 'criterion': 'entropy',\n",
              " 'max_depth': 6,\n",
              " 'max_features': 'auto'}"
            ]
          },
          "metadata": {},
          "execution_count": 103
        }
      ]
    },
    {
      "cell_type": "code",
      "metadata": {
        "id": "uFTXaNONzRki"
      },
      "source": [
        "y_pred2 =  grid_search_cv2.predict(X_test)"
      ],
      "execution_count": null,
      "outputs": []
    },
    {
      "cell_type": "code",
      "metadata": {
        "colab": {
          "base_uri": "https://localhost:8080/"
        },
        "id": "8E0E1m0SzViB",
        "outputId": "d9e11460-7245-4a43-e953-4366e142881a"
      },
      "source": [
        "print(precision_score(y_test, y_pred2))"
      ],
      "execution_count": null,
      "outputs": [
        {
          "output_type": "stream",
          "name": "stdout",
          "text": [
            "0.5833333333333334\n"
          ]
        }
      ]
    },
    {
      "cell_type": "code",
      "metadata": {
        "colab": {
          "base_uri": "https://localhost:8080/"
        },
        "id": "7NO_4k2KzY5J",
        "outputId": "105926ec-57be-45a9-f575-f15d7a9cd9ee"
      },
      "source": [
        "print(recall_score(y_test, y_pred2))"
      ],
      "execution_count": null,
      "outputs": [
        {
          "output_type": "stream",
          "name": "stdout",
          "text": [
            "0.7777777777777778\n"
          ]
        }
      ]
    },
    {
      "cell_type": "code",
      "metadata": {
        "colab": {
          "base_uri": "https://localhost:8080/"
        },
        "id": "D2n5mq5DzcaG",
        "outputId": "b16c605a-ab55-4715-9bcb-10e9c36ae0f0"
      },
      "source": [
        "print(classification_report(y_test, y_pred2))"
      ],
      "execution_count": null,
      "outputs": [
        {
          "output_type": "stream",
          "name": "stdout",
          "text": [
            "              precision    recall  f1-score   support\n",
            "\n",
            "           0       0.50      0.29      0.36         7\n",
            "           1       0.58      0.78      0.67         9\n",
            "\n",
            "    accuracy                           0.56        16\n",
            "   macro avg       0.54      0.53      0.52        16\n",
            "weighted avg       0.55      0.56      0.53        16\n",
            "\n"
          ]
        }
      ]
    },
    {
      "cell_type": "code",
      "metadata": {
        "colab": {
          "base_uri": "https://localhost:8080/"
        },
        "id": "AaKGGJ6HzhZU",
        "outputId": "fbb819d8-35c0-4ce6-84e3-9f9dca91aecd"
      },
      "source": [
        "print(roc_auc_score(y_test, y_pred2))"
      ],
      "execution_count": null,
      "outputs": [
        {
          "output_type": "stream",
          "name": "stdout",
          "text": [
            "0.5317460317460317\n"
          ]
        }
      ]
    }
  ]
}