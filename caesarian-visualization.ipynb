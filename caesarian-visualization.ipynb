{
  "nbformat": 4,
  "nbformat_minor": 0,
  "metadata": {
    "colab": {
      "name": "Caesarian.ipynb",
      "provenance": []
    },
    "kernelspec": {
      "name": "python3",
      "display_name": "Python 3"
    },
    "language_info": {
      "name": "python"
    }
  },
  "cells": [
    {
      "cell_type": "markdown",
      "metadata": {
        "id": "1CDP73huvJd7"
      },
      "source": [
        "**SASKIA DWI ULFAH**\n",
        "<br>**(19/439822/TK/48552)**<br/>\n",
        "**TUGAS REKAYASA DATA** "
      ]
    },
    {
      "cell_type": "markdown",
      "metadata": {
        "id": "LII0Tz_i_R4j"
      },
      "source": [
        "# **0. IMPORT LIBRARY**"
      ]
    },
    {
      "cell_type": "code",
      "metadata": {
        "id": "72XYpUKWC0C-"
      },
      "source": [
        "import pandas as pd\n",
        "import matplotlib.pyplot as plt\n",
        "import seaborn as sns"
      ],
      "execution_count": 54,
      "outputs": []
    },
    {
      "cell_type": "code",
      "metadata": {
        "id": "Q_U1FwO_sO0X"
      },
      "source": [
        "sns.set_style('whitegrid')"
      ],
      "execution_count": 55,
      "outputs": []
    },
    {
      "cell_type": "markdown",
      "metadata": {
        "id": "DOaz_-VR_WPK"
      },
      "source": [
        "# **1. READ THE DATASET**"
      ]
    },
    {
      "cell_type": "code",
      "metadata": {
        "id": "1fIYHkwVC3Bx"
      },
      "source": [
        "caesarian = pd.read_csv('caesarian.csv')"
      ],
      "execution_count": 56,
      "outputs": []
    },
    {
      "cell_type": "code",
      "metadata": {
        "colab": {
          "base_uri": "https://localhost:8080/",
          "height": 202
        },
        "id": "JH7HpP98DAvY",
        "outputId": "7a70ddb8-206a-4c68-d265-6b68668309e1"
      },
      "source": [
        "caesarian.head()"
      ],
      "execution_count": 57,
      "outputs": [
        {
          "output_type": "execute_result",
          "data": {
            "text/html": [
              "<div>\n",
              "<style scoped>\n",
              "    .dataframe tbody tr th:only-of-type {\n",
              "        vertical-align: middle;\n",
              "    }\n",
              "\n",
              "    .dataframe tbody tr th {\n",
              "        vertical-align: top;\n",
              "    }\n",
              "\n",
              "    .dataframe thead th {\n",
              "        text-align: right;\n",
              "    }\n",
              "</style>\n",
              "<table border=\"1\" class=\"dataframe\">\n",
              "  <thead>\n",
              "    <tr style=\"text-align: right;\">\n",
              "      <th></th>\n",
              "      <th>age</th>\n",
              "      <th>delivery_number</th>\n",
              "      <th>delivery_time</th>\n",
              "      <th>blood_of_pressure</th>\n",
              "      <th>heart_problem</th>\n",
              "      <th>caesarian</th>\n",
              "    </tr>\n",
              "  </thead>\n",
              "  <tbody>\n",
              "    <tr>\n",
              "      <th>0</th>\n",
              "      <td>22</td>\n",
              "      <td>1</td>\n",
              "      <td>0</td>\n",
              "      <td>2</td>\n",
              "      <td>0</td>\n",
              "      <td>0</td>\n",
              "    </tr>\n",
              "    <tr>\n",
              "      <th>1</th>\n",
              "      <td>26</td>\n",
              "      <td>2</td>\n",
              "      <td>0</td>\n",
              "      <td>1</td>\n",
              "      <td>0</td>\n",
              "      <td>1</td>\n",
              "    </tr>\n",
              "    <tr>\n",
              "      <th>2</th>\n",
              "      <td>26</td>\n",
              "      <td>2</td>\n",
              "      <td>1</td>\n",
              "      <td>1</td>\n",
              "      <td>0</td>\n",
              "      <td>0</td>\n",
              "    </tr>\n",
              "    <tr>\n",
              "      <th>3</th>\n",
              "      <td>28</td>\n",
              "      <td>1</td>\n",
              "      <td>0</td>\n",
              "      <td>2</td>\n",
              "      <td>0</td>\n",
              "      <td>0</td>\n",
              "    </tr>\n",
              "    <tr>\n",
              "      <th>4</th>\n",
              "      <td>22</td>\n",
              "      <td>2</td>\n",
              "      <td>0</td>\n",
              "      <td>1</td>\n",
              "      <td>0</td>\n",
              "      <td>1</td>\n",
              "    </tr>\n",
              "  </tbody>\n",
              "</table>\n",
              "</div>"
            ],
            "text/plain": [
              "   age  delivery_number  ...  heart_problem  caesarian\n",
              "0   22                1  ...              0          0\n",
              "1   26                2  ...              0          1\n",
              "2   26                2  ...              0          0\n",
              "3   28                1  ...              0          0\n",
              "4   22                2  ...              0          1\n",
              "\n",
              "[5 rows x 6 columns]"
            ]
          },
          "metadata": {},
          "execution_count": 57
        }
      ]
    },
    {
      "cell_type": "markdown",
      "metadata": {
        "id": "1nG1rmf3_pAS"
      },
      "source": [
        "# **2. INFORMATION ABOUT DATASET**"
      ]
    },
    {
      "cell_type": "markdown",
      "metadata": {
        "id": "qG7kXPG6_1qw"
      },
      "source": [
        "We choose age, delivery number, delivery time, blood pressure and heart status.\n",
        "We classify delivery time to Premature, Timely and Latecomer. As like the delivery time we consider blood pressure in three statuses of Low, Normal and High Moods. Heart Problem is classified as Apt and Inept.\n",
        "\n",
        "* attribute 'age' \n",
        "> { 22,26,28,27,32,36,33,23,20,29,25,37,24,18,30,40,31,19,21,35,17,38 }\n",
        "* attribute 'delivery_number' \n",
        "> { 1,2,3,4 }\n",
        "* attribute 'delivery_time' \n",
        "> { 0,1,2 } -> {0 = timely , 1 = premature , 2 = latecomer}\n",
        "* attribute 'blood_of_pressure' \n",
        "> { 0,1,2 } -> {0 = low , 1 = normal , 2 = high }\n",
        "* attribute 'heart_problem' \n",
        "> { 0,1 } -> {0 = apt, 1 = inept }\n",
        "* attribute'caesarian' \n",
        "> { 0,1 } -> {0 = No, 1 = Yes }\n",
        "\n",
        "Resource:\n",
        "> https://archive.ics.uci.edu/ml/datasets/Caesarian+Section+Classification+Dataset"
      ]
    },
    {
      "cell_type": "markdown",
      "metadata": {
        "id": "0jqKaMqE_eSg"
      },
      "source": [
        "# **3. DATASET BASIC EXPLORATION**"
      ]
    },
    {
      "cell_type": "markdown",
      "metadata": {
        "id": "k_IFWo2XXX4y"
      },
      "source": [
        "STATISTICAL SUMMARY"
      ]
    },
    {
      "cell_type": "code",
      "metadata": {
        "colab": {
          "base_uri": "https://localhost:8080/",
          "height": 294
        },
        "id": "Cd3BGafSImwy",
        "outputId": "4e83aa72-7f4a-4f96-cd4f-79120ed7abc4"
      },
      "source": [
        "caesarian.describe()"
      ],
      "execution_count": 58,
      "outputs": [
        {
          "output_type": "execute_result",
          "data": {
            "text/html": [
              "<div>\n",
              "<style scoped>\n",
              "    .dataframe tbody tr th:only-of-type {\n",
              "        vertical-align: middle;\n",
              "    }\n",
              "\n",
              "    .dataframe tbody tr th {\n",
              "        vertical-align: top;\n",
              "    }\n",
              "\n",
              "    .dataframe thead th {\n",
              "        text-align: right;\n",
              "    }\n",
              "</style>\n",
              "<table border=\"1\" class=\"dataframe\">\n",
              "  <thead>\n",
              "    <tr style=\"text-align: right;\">\n",
              "      <th></th>\n",
              "      <th>age</th>\n",
              "      <th>delivery_number</th>\n",
              "      <th>delivery_time</th>\n",
              "      <th>blood_of_pressure</th>\n",
              "      <th>heart_problem</th>\n",
              "      <th>caesarian</th>\n",
              "    </tr>\n",
              "  </thead>\n",
              "  <tbody>\n",
              "    <tr>\n",
              "      <th>count</th>\n",
              "      <td>80.000000</td>\n",
              "      <td>80.000000</td>\n",
              "      <td>80.000000</td>\n",
              "      <td>80.000000</td>\n",
              "      <td>80.000000</td>\n",
              "      <td>80.000000</td>\n",
              "    </tr>\n",
              "    <tr>\n",
              "      <th>mean</th>\n",
              "      <td>27.687500</td>\n",
              "      <td>1.662500</td>\n",
              "      <td>0.637500</td>\n",
              "      <td>1.000000</td>\n",
              "      <td>0.375000</td>\n",
              "      <td>0.575000</td>\n",
              "    </tr>\n",
              "    <tr>\n",
              "      <th>std</th>\n",
              "      <td>5.017927</td>\n",
              "      <td>0.794662</td>\n",
              "      <td>0.815107</td>\n",
              "      <td>0.711568</td>\n",
              "      <td>0.487177</td>\n",
              "      <td>0.497462</td>\n",
              "    </tr>\n",
              "    <tr>\n",
              "      <th>min</th>\n",
              "      <td>17.000000</td>\n",
              "      <td>1.000000</td>\n",
              "      <td>0.000000</td>\n",
              "      <td>0.000000</td>\n",
              "      <td>0.000000</td>\n",
              "      <td>0.000000</td>\n",
              "    </tr>\n",
              "    <tr>\n",
              "      <th>25%</th>\n",
              "      <td>25.000000</td>\n",
              "      <td>1.000000</td>\n",
              "      <td>0.000000</td>\n",
              "      <td>0.750000</td>\n",
              "      <td>0.000000</td>\n",
              "      <td>0.000000</td>\n",
              "    </tr>\n",
              "    <tr>\n",
              "      <th>50%</th>\n",
              "      <td>27.000000</td>\n",
              "      <td>1.000000</td>\n",
              "      <td>0.000000</td>\n",
              "      <td>1.000000</td>\n",
              "      <td>0.000000</td>\n",
              "      <td>1.000000</td>\n",
              "    </tr>\n",
              "    <tr>\n",
              "      <th>75%</th>\n",
              "      <td>32.000000</td>\n",
              "      <td>2.000000</td>\n",
              "      <td>1.000000</td>\n",
              "      <td>1.250000</td>\n",
              "      <td>1.000000</td>\n",
              "      <td>1.000000</td>\n",
              "    </tr>\n",
              "    <tr>\n",
              "      <th>max</th>\n",
              "      <td>40.000000</td>\n",
              "      <td>4.000000</td>\n",
              "      <td>2.000000</td>\n",
              "      <td>2.000000</td>\n",
              "      <td>1.000000</td>\n",
              "      <td>1.000000</td>\n",
              "    </tr>\n",
              "  </tbody>\n",
              "</table>\n",
              "</div>"
            ],
            "text/plain": [
              "             age  delivery_number  ...  heart_problem  caesarian\n",
              "count  80.000000        80.000000  ...      80.000000  80.000000\n",
              "mean   27.687500         1.662500  ...       0.375000   0.575000\n",
              "std     5.017927         0.794662  ...       0.487177   0.497462\n",
              "min    17.000000         1.000000  ...       0.000000   0.000000\n",
              "25%    25.000000         1.000000  ...       0.000000   0.000000\n",
              "50%    27.000000         1.000000  ...       0.000000   1.000000\n",
              "75%    32.000000         2.000000  ...       1.000000   1.000000\n",
              "max    40.000000         4.000000  ...       1.000000   1.000000\n",
              "\n",
              "[8 rows x 6 columns]"
            ]
          },
          "metadata": {},
          "execution_count": 58
        }
      ]
    },
    {
      "cell_type": "markdown",
      "metadata": {
        "id": "uusXfC6OXcWs"
      },
      "source": [
        "DATASET INFO"
      ]
    },
    {
      "cell_type": "code",
      "metadata": {
        "colab": {
          "base_uri": "https://localhost:8080/"
        },
        "id": "yQQviBRGB2Q_",
        "outputId": "0ad1015e-2741-4a72-e77e-437a549f11a0"
      },
      "source": [
        "caesarian.info()"
      ],
      "execution_count": 59,
      "outputs": [
        {
          "output_type": "stream",
          "name": "stdout",
          "text": [
            "<class 'pandas.core.frame.DataFrame'>\n",
            "RangeIndex: 80 entries, 0 to 79\n",
            "Data columns (total 6 columns):\n",
            " #   Column             Non-Null Count  Dtype\n",
            "---  ------             --------------  -----\n",
            " 0   age                80 non-null     int64\n",
            " 1   delivery_number    80 non-null     int64\n",
            " 2   delivery_time      80 non-null     int64\n",
            " 3   blood_of_pressure  80 non-null     int64\n",
            " 4   heart_problem      80 non-null     int64\n",
            " 5   caesarian          80 non-null     int64\n",
            "dtypes: int64(6)\n",
            "memory usage: 3.9 KB\n"
          ]
        }
      ]
    },
    {
      "cell_type": "markdown",
      "metadata": {
        "id": "Eff_1xkOXeAL"
      },
      "source": [
        "DATASET DIMENSION"
      ]
    },
    {
      "cell_type": "code",
      "metadata": {
        "colab": {
          "base_uri": "https://localhost:8080/"
        },
        "id": "Etj0o8AxLa3t",
        "outputId": "700b0df6-5c49-4f9b-ea9c-d8a5918f4334"
      },
      "source": [
        "caesarian.shape"
      ],
      "execution_count": 60,
      "outputs": [
        {
          "output_type": "execute_result",
          "data": {
            "text/plain": [
              "(80, 6)"
            ]
          },
          "metadata": {},
          "execution_count": 60
        }
      ]
    },
    {
      "cell_type": "markdown",
      "metadata": {
        "id": "bQQW2C3TXlXq"
      },
      "source": [
        "NUMBER OF UNIQUE VALUES IN EACH COLUMN"
      ]
    },
    {
      "cell_type": "code",
      "metadata": {
        "colab": {
          "base_uri": "https://localhost:8080/"
        },
        "id": "h_igP87uDrjX",
        "outputId": "45f42176-50c8-4ca8-d7f8-847cbbf74cb1"
      },
      "source": [
        "caesarian.nunique()"
      ],
      "execution_count": 61,
      "outputs": [
        {
          "output_type": "execute_result",
          "data": {
            "text/plain": [
              "age                  22\n",
              "delivery_number       4\n",
              "delivery_time         3\n",
              "blood_of_pressure     3\n",
              "heart_problem         2\n",
              "caesarian             2\n",
              "dtype: int64"
            ]
          },
          "metadata": {},
          "execution_count": 61
        }
      ]
    },
    {
      "cell_type": "markdown",
      "metadata": {
        "id": "7YNbb0OUXt_v"
      },
      "source": [
        "DUPLICATE"
      ]
    },
    {
      "cell_type": "code",
      "metadata": {
        "id": "qMyJp6sEWaGd"
      },
      "source": [
        "caesarian['is_duplicated'] = caesarian.duplicated()"
      ],
      "execution_count": 66,
      "outputs": []
    },
    {
      "cell_type": "code",
      "metadata": {
        "colab": {
          "base_uri": "https://localhost:8080/"
        },
        "id": "TcS-QBGhXRns",
        "outputId": "36db1157-a231-44ef-cced-24bbc89ab5c7"
      },
      "source": [
        "caesarian['is_duplicated'].value_counts()"
      ],
      "execution_count": 67,
      "outputs": [
        {
          "output_type": "execute_result",
          "data": {
            "text/plain": [
              "False    76\n",
              "True      4\n",
              "Name: is_duplicated, dtype: int64"
            ]
          },
          "metadata": {},
          "execution_count": 67
        }
      ]
    },
    {
      "cell_type": "code",
      "metadata": {
        "colab": {
          "base_uri": "https://localhost:8080/",
          "height": 171
        },
        "id": "171fdjbLXy-F",
        "outputId": "825f216d-b855-4dfc-8d09-bde7a0dc8c7b"
      },
      "source": [
        "duplicate = caesarian['is_duplicated'] == True\n",
        "caesarian[duplicate]"
      ],
      "execution_count": 68,
      "outputs": [
        {
          "output_type": "execute_result",
          "data": {
            "text/html": [
              "<div>\n",
              "<style scoped>\n",
              "    .dataframe tbody tr th:only-of-type {\n",
              "        vertical-align: middle;\n",
              "    }\n",
              "\n",
              "    .dataframe tbody tr th {\n",
              "        vertical-align: top;\n",
              "    }\n",
              "\n",
              "    .dataframe thead th {\n",
              "        text-align: right;\n",
              "    }\n",
              "</style>\n",
              "<table border=\"1\" class=\"dataframe\">\n",
              "  <thead>\n",
              "    <tr style=\"text-align: right;\">\n",
              "      <th></th>\n",
              "      <th>age</th>\n",
              "      <th>delivery_number</th>\n",
              "      <th>delivery_time</th>\n",
              "      <th>blood_of_pressure</th>\n",
              "      <th>heart_problem</th>\n",
              "      <th>caesarian</th>\n",
              "      <th>is_duplicated</th>\n",
              "    </tr>\n",
              "  </thead>\n",
              "  <tbody>\n",
              "    <tr>\n",
              "      <th>47</th>\n",
              "      <td>32</td>\n",
              "      <td>2</td>\n",
              "      <td>0</td>\n",
              "      <td>2</td>\n",
              "      <td>1</td>\n",
              "      <td>1</td>\n",
              "      <td>True</td>\n",
              "    </tr>\n",
              "    <tr>\n",
              "      <th>61</th>\n",
              "      <td>19</td>\n",
              "      <td>1</td>\n",
              "      <td>0</td>\n",
              "      <td>1</td>\n",
              "      <td>0</td>\n",
              "      <td>1</td>\n",
              "      <td>True</td>\n",
              "    </tr>\n",
              "    <tr>\n",
              "      <th>71</th>\n",
              "      <td>29</td>\n",
              "      <td>1</td>\n",
              "      <td>2</td>\n",
              "      <td>0</td>\n",
              "      <td>1</td>\n",
              "      <td>1</td>\n",
              "      <td>True</td>\n",
              "    </tr>\n",
              "    <tr>\n",
              "      <th>72</th>\n",
              "      <td>28</td>\n",
              "      <td>2</td>\n",
              "      <td>0</td>\n",
              "      <td>1</td>\n",
              "      <td>0</td>\n",
              "      <td>0</td>\n",
              "      <td>True</td>\n",
              "    </tr>\n",
              "  </tbody>\n",
              "</table>\n",
              "</div>"
            ],
            "text/plain": [
              "    age  delivery_number  ...  caesarian  is_duplicated\n",
              "47   32                2  ...          1           True\n",
              "61   19                1  ...          1           True\n",
              "71   29                1  ...          1           True\n",
              "72   28                2  ...          0           True\n",
              "\n",
              "[4 rows x 7 columns]"
            ]
          },
          "metadata": {},
          "execution_count": 68
        }
      ]
    },
    {
      "cell_type": "markdown",
      "metadata": {
        "id": "KgmGLNs_qziH"
      },
      "source": [
        "Data duplicate dianggap sebagai pasien berbeda yang memiliki kondisi yang sama."
      ]
    },
    {
      "cell_type": "code",
      "metadata": {
        "id": "mAuhDyhurA_2"
      },
      "source": [
        "caesarian = caesarian.drop('is_duplicated', axis=1)"
      ],
      "execution_count": 69,
      "outputs": []
    },
    {
      "cell_type": "markdown",
      "metadata": {
        "id": "cI5VqW66Vi_f"
      },
      "source": [
        "# **4. EACH COLUMN UNIQUE VALUES**"
      ]
    },
    {
      "cell_type": "code",
      "metadata": {
        "colab": {
          "base_uri": "https://localhost:8080/"
        },
        "id": "8OwkqCPrKjbt",
        "outputId": "6ed47e02-6788-489b-c83e-ff72644190eb"
      },
      "source": [
        "caesarian['age'].unique()"
      ],
      "execution_count": 70,
      "outputs": [
        {
          "output_type": "execute_result",
          "data": {
            "text/plain": [
              "array([22, 26, 28, 27, 32, 36, 33, 23, 20, 29, 25, 37, 24, 18, 30, 40, 31,\n",
              "       19, 21, 35, 17, 38])"
            ]
          },
          "metadata": {},
          "execution_count": 70
        }
      ]
    },
    {
      "cell_type": "code",
      "metadata": {
        "colab": {
          "base_uri": "https://localhost:8080/"
        },
        "id": "mzIUlB9IKrc8",
        "outputId": "2d6c7616-6af9-4245-d5c0-fb2b3b129830"
      },
      "source": [
        "caesarian['delivery_number'].unique()"
      ],
      "execution_count": 71,
      "outputs": [
        {
          "output_type": "execute_result",
          "data": {
            "text/plain": [
              "array([1, 2, 3, 4])"
            ]
          },
          "metadata": {},
          "execution_count": 71
        }
      ]
    },
    {
      "cell_type": "code",
      "metadata": {
        "colab": {
          "base_uri": "https://localhost:8080/"
        },
        "id": "Otg6eZSzKwBd",
        "outputId": "38812fa6-99f4-4532-f928-10558f5a5b05"
      },
      "source": [
        "caesarian['delivery_time'].unique()"
      ],
      "execution_count": 72,
      "outputs": [
        {
          "output_type": "execute_result",
          "data": {
            "text/plain": [
              "array([0, 1, 2])"
            ]
          },
          "metadata": {},
          "execution_count": 72
        }
      ]
    },
    {
      "cell_type": "code",
      "metadata": {
        "colab": {
          "base_uri": "https://localhost:8080/"
        },
        "id": "lC5WszX_KzBL",
        "outputId": "67be472e-3616-4b7e-a7fa-415e6cf28141"
      },
      "source": [
        "caesarian['blood_of_pressure'].unique()"
      ],
      "execution_count": 73,
      "outputs": [
        {
          "output_type": "execute_result",
          "data": {
            "text/plain": [
              "array([2, 1, 0])"
            ]
          },
          "metadata": {},
          "execution_count": 73
        }
      ]
    },
    {
      "cell_type": "code",
      "metadata": {
        "colab": {
          "base_uri": "https://localhost:8080/"
        },
        "id": "NhkEPfgXK3JE",
        "outputId": "0bcc813d-3571-4748-c0ed-5997145b5659"
      },
      "source": [
        "caesarian['heart_problem'].unique()"
      ],
      "execution_count": 74,
      "outputs": [
        {
          "output_type": "execute_result",
          "data": {
            "text/plain": [
              "array([0, 1])"
            ]
          },
          "metadata": {},
          "execution_count": 74
        }
      ]
    },
    {
      "cell_type": "code",
      "metadata": {
        "colab": {
          "base_uri": "https://localhost:8080/"
        },
        "id": "KKJjyi1bK7wc",
        "outputId": "ca269088-26c9-441a-f78d-14a0a117cbbc"
      },
      "source": [
        "caesarian['caesarian'].unique()"
      ],
      "execution_count": 75,
      "outputs": [
        {
          "output_type": "execute_result",
          "data": {
            "text/plain": [
              "array([0, 1])"
            ]
          },
          "metadata": {},
          "execution_count": 75
        }
      ]
    },
    {
      "cell_type": "markdown",
      "metadata": {
        "id": "bcizg8ycV18E"
      },
      "source": [
        "# **5. DATA VISUALIZATION: ALL COLUMNS VS CAESARIAN**"
      ]
    },
    {
      "cell_type": "markdown",
      "metadata": {
        "id": "S-BhoBGor92j"
      },
      "source": [
        "AGE VS CAESARIAN "
      ]
    },
    {
      "cell_type": "code",
      "metadata": {
        "colab": {
          "base_uri": "https://localhost:8080/",
          "height": 370
        },
        "id": "SmGyYJPVr9PH",
        "outputId": "1d80ed1f-738e-42e7-d554-5240e96133d4"
      },
      "source": [
        "plt.figure(figsize=(20,21))\n",
        "\n",
        "sns.displot(data=caesarian, x='age', hue='caesarian', element='step', )\n",
        "\n",
        "plt.title('Distribusi Usia Wanita Hamil'.upper())\n",
        "plt.subplots_adjust(top=0.88)\n",
        "plt.savefig('age.jpg')"
      ],
      "execution_count": 76,
      "outputs": [
        {
          "output_type": "display_data",
          "data": {
            "text/plain": [
              "<Figure size 1440x1512 with 0 Axes>"
            ]
          },
          "metadata": {}
        },
        {
          "output_type": "display_data",
          "data": {
            "image/png": "[encoded data removed]",
            "text/plain": [
              "<Figure size 416.625x360 with 1 Axes>"
            ]
          },
          "metadata": {}
        }
      ]
    },
    {
      "cell_type": "code",
      "metadata": {
        "colab": {
          "base_uri": "https://localhost:8080/",
          "height": 513
        },
        "id": "4Z7ufwam-lKw",
        "outputId": "73b30ab7-2683-49ac-b04e-754557edc564"
      },
      "source": [
        "fig, ax = plt.subplots(figsize=(9,8))\n",
        "\n",
        "sns.boxplot(data=caesarian, y='age', x='caesarian')\n",
        "\n",
        "ax.set_xticklabels(['No', 'Yes'])\n",
        "plt.title('Distribusi usia di setiap kelas'.upper())\n",
        "plt.subplots_adjust(top=0.88)\n",
        "plt.savefig('age_dist.jpg')"
      ],
      "execution_count": 77,
      "outputs": [
        {
          "output_type": "display_data",
          "data": {
            "image/png": "[encoded data removed]",
            "text/plain": [
              "<Figure size 648x576 with 1 Axes>"
            ]
          },
          "metadata": {}
        }
      ]
    },
    {
      "cell_type": "markdown",
      "metadata": {
        "id": "iB378HMxsu2K"
      },
      "source": [
        "DELIVERY NUMBER VS CAESARIAN"
      ]
    },
    {
      "cell_type": "code",
      "metadata": {
        "colab": {
          "base_uri": "https://localhost:8080/",
          "height": 513
        },
        "id": "rH2_JhmfsxiK",
        "outputId": "d53e15b2-2331-416f-89f5-9ef2c15c6186"
      },
      "source": [
        "fig, ax = plt.subplots(figsize=(9,8))\n",
        "\n",
        "sns.countplot(data=caesarian, x='delivery_number', hue='caesarian', palette='deep')\n",
        "\n",
        "plt.title('DELIVERY NUMBER VS CAESARIAN')\n",
        "plt.xlabel('Delivery number')\n",
        "plt.ylabel('Banyak pasien')\n",
        "plt.subplots_adjust(top=0.88)\n",
        "plt.savefig('dn_cs.jpg')"
      ],
      "execution_count": 78,
      "outputs": [
        {
          "output_type": "display_data",
          "data": {
            "image/png": "[encoded data removed]",
            "text/plain": [
              "<Figure size 648x576 with 1 Axes>"
            ]
          },
          "metadata": {}
        }
      ]
    },
    {
      "cell_type": "markdown",
      "metadata": {
        "id": "qIn4qdQDuZ1c"
      },
      "source": [
        "DELIVERY TIME VS CAESARIAN "
      ]
    },
    {
      "cell_type": "code",
      "metadata": {
        "colab": {
          "base_uri": "https://localhost:8080/",
          "height": 513
        },
        "id": "h_77YAsYuY_E",
        "outputId": "0565ca6a-4a09-4bf2-bcde-1016787f18bd"
      },
      "source": [
        "fig, ax = plt.subplots(figsize=(9,8))\n",
        "\n",
        "sns.countplot(data=caesarian, x='delivery_time', hue='caesarian', palette='deep')\n",
        "\n",
        "ax.set_xticklabels(['Timely', 'Premature', 'Latecomer'])\n",
        "plt.title('DELIVERY TIME VS CAESARIAN')\n",
        "plt.xlabel('Delivery time')\n",
        "plt.ylabel('Banyak pasien')\n",
        "plt.subplots_adjust(top=0.88)\n",
        "plt.savefig('dt_cs.jpg')"
      ],
      "execution_count": 79,
      "outputs": [
        {
          "output_type": "display_data",
          "data": {
            "image/png": "[encoded data removed]",
            "text/plain": [
              "<Figure size 648x576 with 1 Axes>"
            ]
          },
          "metadata": {}
        }
      ]
    },
    {
      "cell_type": "markdown",
      "metadata": {
        "id": "W2AD1SgByfUL"
      },
      "source": [
        "Pasien yang melahirkan tepat waktu lebih dominan dalam melahirkan secara caesar. Sementara itu, pasien yang melahirkan lebih cepat (premature) atau lebih lambat (latecomer) memiliki perbandingan cara kelahiran yang hampir seimbang. Lebih banyak dilakukan secara normal."
      ]
    },
    {
      "cell_type": "markdown",
      "metadata": {
        "id": "WDOuzrr_y3MO"
      },
      "source": [
        "BLOOD OF PRESSURE VS CAESARIAN"
      ]
    },
    {
      "cell_type": "code",
      "metadata": {
        "colab": {
          "base_uri": "https://localhost:8080/",
          "height": 513
        },
        "id": "3tqYLYfLxNrs",
        "outputId": "423263b1-4e13-42e0-ad09-bd0ed0edcfbc"
      },
      "source": [
        "fig, ax = plt.subplots(figsize=(9,8))\n",
        "\n",
        "sns.countplot(data=caesarian, x='blood_of_pressure', hue='caesarian', palette='deep')\n",
        "\n",
        "ax.set_xticklabels(['Low', 'Normal', 'High'])\n",
        "plt.title('BLOOD OF PRESSURE VS CAESARIAN')\n",
        "plt.xlabel('Blood of pressure')\n",
        "plt.ylabel('Banyak pasien')\n",
        "plt.subplots_adjust(top=0.88)\n",
        "plt.savefig('bld_cs.jpg')"
      ],
      "execution_count": 80,
      "outputs": [
        {
          "output_type": "display_data",
          "data": {
            "image/png": "[encoded data removed]",
            "text/plain": [
              "<Figure size 648x576 with 1 Axes>"
            ]
          },
          "metadata": {}
        }
      ]
    },
    {
      "cell_type": "markdown",
      "metadata": {
        "id": "LERkTbZfy9We"
      },
      "source": [
        "Pasien dengan tekanan darah rendah dan tinggi dominan melakukan caesar dalam proses melahirkan."
      ]
    },
    {
      "cell_type": "markdown",
      "metadata": {
        "id": "XTHrDqwIzIVK"
      },
      "source": [
        "HEART PROBLEM VS CAESARIAN "
      ]
    },
    {
      "cell_type": "code",
      "metadata": {
        "colab": {
          "base_uri": "https://localhost:8080/",
          "height": 513
        },
        "id": "0Myf_xrkyGAJ",
        "outputId": "6d1308df-7043-4ce7-f836-d2cdc8ba5868"
      },
      "source": [
        "fig, ax = plt.subplots(figsize=(9,8))\n",
        "\n",
        "sns.countplot(data=caesarian, x='heart_problem', hue='caesarian', palette='deep')\n",
        "\n",
        "ax.set_xticklabels(['Apt', 'Inept'])\n",
        "plt.title('HEART PROBLEM VS CAESARIAN')\n",
        "plt.xlabel('Heart problem')\n",
        "plt.ylabel('Banyak pasien')\n",
        "plt.subplots_adjust(top=0.88)\n",
        "plt.savefig('hrt_cs.jpg')"
      ],
      "execution_count": 81,
      "outputs": [
        {
          "output_type": "display_data",
          "data": {
            "image/png": "[encoded data removed]",
            "text/plain": [
              "<Figure size 648x576 with 1 Axes>"
            ]
          },
          "metadata": {}
        }
      ]
    },
    {
      "cell_type": "markdown",
      "metadata": {
        "id": "TPUrPC6GzM_1"
      },
      "source": [
        "Perempuan yang memiliki kondisi inept lebih banyak melahirkan dengan cara operasi caesar."
      ]
    },
    {
      "cell_type": "code",
      "metadata": {
        "colab": {
          "base_uri": "https://localhost:8080/",
          "height": 567
        },
        "id": "eCQovm4iRwVK",
        "outputId": "66159710-d55d-4239-96bb-c8b9a6c7f53c"
      },
      "source": [
        "fig, ax = plt.subplots(figsize=(9,8))\n",
        "sns.heatmap(caesarian.corr(), cmap=\"YlGnBu\", annot=True)\n",
        "plt.subplots_adjust(top=0.88)\n",
        "plt.savefig('corr.jpg')"
      ],
      "execution_count": 88,
      "outputs": [
        {
          "output_type": "display_data",
          "data": {
            "image/png": "[encoded data removed]",
            "text/plain": [
              "<Figure size 648x576 with 2 Axes>"
            ]
          },
          "metadata": {}
        }
      ]
    }
  ]
}